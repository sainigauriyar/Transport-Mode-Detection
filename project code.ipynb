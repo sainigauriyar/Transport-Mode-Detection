{
 "cells": [
  {
   "cell_type": "code",
   "execution_count": 1,
   "metadata": {},
   "outputs": [],
   "source": [
    "import numpy as np\n",
    "import matplotlib.pyplot as plt\n",
    "import pandas as pd\n",
    "import timeit\n",
    "import random"
   ]
  },
  {
   "cell_type": "code",
   "execution_count": 2,
   "metadata": {},
   "outputs": [],
   "source": [
    "dataset = pd.read_csv('Data.csv')"
   ]
  },
  {
   "cell_type": "markdown",
   "metadata": {},
   "source": [
    "**1) Converting the cleaned dataset into dataframe 'df' and analyzing it**"
   ]
  },
  {
   "cell_type": "code",
   "execution_count": 3,
   "metadata": {},
   "outputs": [],
   "source": [
    "df = pd.DataFrame(data = dataset)"
   ]
  },
  {
   "cell_type": "markdown",
   "metadata": {},
   "source": [
    "1.a) Finding number of rows, columns and column names"
   ]
  },
  {
   "cell_type": "code",
   "execution_count": 4,
   "metadata": {},
   "outputs": [
    {
     "name": "stdout",
     "output_type": "stream",
     "text": [
      "Number of rows in dataset is 5653053\n",
      "Number of columns in dataset is 6\n",
      "Column names :  Index(['user', 'timestamp', 'x', 'y', 'z', 'class'], dtype='object')\n"
     ]
    }
   ],
   "source": [
    "print(\"Number of rows in dataset is\",len(df.index))\n",
    "print(\"Number of columns in dataset is\",len(df.columns))\n",
    "print(\"Column names : \",df.columns)"
   ]
  },
  {
   "cell_type": "markdown",
   "metadata": {},
   "source": [
    "1.b) Number of unique users in dataset"
   ]
  },
  {
   "cell_type": "code",
   "execution_count": 5,
   "metadata": {},
   "outputs": [
    {
     "name": "stdout",
     "output_type": "stream",
     "text": [
      "Number of unique users are : 32\n",
      "All unique users :\n",
      " ['a2d80ed662f34d32951eb1c6ed076c313e358b73'\n",
      " 'a526f3566e9c9024dfa7378eb4291d787a09fd37'\n",
      " 'a59868c6eb3645eedbb343ce8c336ec6f2ef2324'\n",
      " 'a92dee88f61123f923dccec01eeecf1a81953b36'\n",
      " 'ac4c17afeb69b39169eb301ab592696a8f353976'\n",
      " 'adaaae1a67ea9e43abd60ba945eccda0cb8821e0'\n",
      " 'b138d165100ef60bc793cac143742eb5aea4d6ba'\n",
      " 'b45157069942d01310c3e7b74034166717bb25f9'\n",
      " 'b7b165e5637b5a0226068d907748f4bbfc61a320'\n",
      " 'c453226e3616ae821cdcb38f38481c2a20f2482f'\n",
      " 'c5702d34b238fe68683f818e82cd3a3cd8a16366'\n",
      " 'ca7950f223a8037b897d0547075dc138f9e43b20'\n",
      " 'cace4ec0999436917986b4fa6e9317262c897bc2'\n",
      " 'cbde60baea002b694ecf2a3ff2d95be16b00efe1'\n",
      " 'ce39f5d0705695fcd70a04ba6d84ac6beecd6f9c'\n",
      " 'd429974540bfd38c3367fe9f0c8682775ff4fa18'\n",
      " 'd7a1230d94f91a32cc079809748e52e8a4a6a22f'\n",
      " 'd7dd12d83c81574137f858034b99f4cc83ab0718'\n",
      " 'd8c047eaaee204b7b5cd71e2d67308b87b038ed3'\n",
      " 'dc0bdce306ec3b624fe0e6ecd1ffbd82cb970120'\n",
      " 'dd82e3df4bebc74ed6b67877be79e29f401c16a3'\n",
      " 'dde95e125d89843f7032baa734ee4d34ec775aaf'\n",
      " 'de9892b879c83ea3d24fb4560873107cc4e86d48'\n",
      " 'dfcfc0404691b73b69884073159f90843f2ac35b'\n",
      " 'e429a95c532f1117130c11e4a18379d84fa4ffa9'\n",
      " 'eb9e7854290fd6ea9ebaf448b640fc1f1dbeb076'\n",
      " 'ecfb0929250fb6dda66a4065441230ab27f094e5'\n",
      " 'ed623d28c1e0071632a6110b8f8ed93f8af78b99'\n",
      " 'f1b7331b66e404c11eebb22933e733117bbb12c9'\n",
      " 'f5edd999397145a2ec1b244226fc83f99631760c'\n",
      " 'f7ae1ce141c26db40ea8b090fb568a0c965310aa'\n",
      " 'faae5be800be2dfa897eea0bd2e5988cd53c4ec0']\n"
     ]
    }
   ],
   "source": [
    "print(\"Number of unique users are :\",df['user'].nunique())\n",
    "print(\"All unique users :\\n\",df['user'].unique())"
   ]
  },
  {
   "cell_type": "code",
   "execution_count": 6,
   "metadata": {},
   "outputs": [
    {
     "data": {
      "text/plain": [
       "array(['bus', 'walk', 'car', 'bike', 'train', 'e-bike'], dtype=object)"
      ]
     },
     "execution_count": 6,
     "metadata": {},
     "output_type": "execute_result"
    }
   ],
   "source": [
    "#Name of mode of transport\n",
    "df['class'].unique()"
   ]
  },
  {
   "cell_type": "code",
   "execution_count": 7,
   "metadata": {},
   "outputs": [
    {
     "name": "stdout",
     "output_type": "stream",
     "text": [
      "['bus' 'walk' 'car' 'bike' 'train' 'e-bike']\n"
     ]
    }
   ],
   "source": [
    "uniq_class = df['class'].unique()\n",
    "print(uniq_class)"
   ]
  },
  {
   "cell_type": "markdown",
   "metadata": {},
   "source": [
    "**2) Determining number of unique sequences**"
   ]
  },
  {
   "cell_type": "code",
   "execution_count": 8,
   "metadata": {},
   "outputs": [],
   "source": [
    "#Converting 'timestamp' column from string to DateTime\n",
    "df['timestamp'] = pd.to_datetime(df['timestamp'])"
   ]
  },
  {
   "cell_type": "code",
   "execution_count": 9,
   "metadata": {},
   "outputs": [],
   "source": [
    "#Function to get number of unique sequences per user per class\n",
    "def number_of_uniq_seq_per_user_per_class(df):\n",
    "    all_uniq_class = df['class'].unique()       #list of all unique classes for a particular user\n",
    "    grpby_class = df.groupby('class')\n",
    "    #dataframe to store number of unique sequences for every class of a particular user\n",
    "    df_user_stats = pd.DataFrame(columns = ['user','class','number of unique sequences']) \n",
    "    for i in range(len(all_uniq_class)):\n",
    "        df_by_class = grpby_class.get_group(all_uniq_class[i])   #grouping by class\n",
    "        df_by_class = df_by_class.sort_values(\"timestamp\")       #sorting the records by their time\n",
    "        first_row = df_by_class.first_valid_index()\n",
    "        \n",
    "        #calculating time difference between successive records\n",
    "        df_by_class['timedelta'] = (df_by_class['timestamp'] - df_by_class['timestamp'].shift(periods=1,fill_value=\n",
    "                                                    df_by_class['timestamp'].loc[first_row]))/np.timedelta64(1,'s')\n",
    "        #counting all time differences greater than 10 seconds which provide us the number of records\n",
    "        diff_greater_than_10 = df_by_class[df_by_class['timedelta'] > 10].count().loc['user']\n",
    "\n",
    "        #appending the records for this class\n",
    "        stat_for_this_group = {'user' : df_by_class['user'].loc[first_row], 'class' : all_uniq_class[i],\n",
    "                                             'number of unique sequences' : diff_greater_than_10}\n",
    "        df_user_stats = df_user_stats.append(stat_for_this_group, ignore_index = True)\n",
    "\n",
    "    return df_user_stats"
   ]
  },
  {
   "cell_type": "code",
   "execution_count": 10,
   "metadata": {},
   "outputs": [],
   "source": [
    "starttime = timeit.default_timer()\n",
    "all_uniq_user = df['user'].unique()       #list of all unique users\n",
    "grpby_user = df.groupby('user')           #grouping the dataset by unique users\n",
    "\n",
    "#table to store number of unique sequences per user per class\n",
    "uniq_seq_stats = pd.DataFrame(columns = ['user','class','number of unique sequences'])  \n",
    "for i in range(len(all_uniq_user)):\n",
    "    df_user_stats = number_of_uniq_seq_per_user_per_class(grpby_user.get_group(all_uniq_user[i]))\n",
    "    uniq_seq_stats = uniq_seq_stats.append(df_user_stats,ignore_index = True)\n",
    "\n",
    "time_to_find_num_of_uniq_seq = timeit.default_timer() - starttime"
   ]
  },
  {
   "cell_type": "code",
   "execution_count": 11,
   "metadata": {},
   "outputs": [
    {
     "name": "stdout",
     "output_type": "stream",
     "text": [
      "                                        user class number of unique sequences\n",
      "0   a2d80ed662f34d32951eb1c6ed076c313e358b73   bus                         12\n",
      "1   a526f3566e9c9024dfa7378eb4291d787a09fd37  walk                         18\n",
      "2   a526f3566e9c9024dfa7378eb4291d787a09fd37   car                         12\n",
      "3   a59868c6eb3645eedbb343ce8c336ec6f2ef2324   car                         65\n",
      "4   a59868c6eb3645eedbb343ce8c336ec6f2ef2324  walk                          7\n",
      "..                                       ...   ...                        ...\n",
      "65  f5edd999397145a2ec1b244226fc83f99631760c   bus                         15\n",
      "66  f7ae1ce141c26db40ea8b090fb568a0c965310aa   car                          1\n",
      "67  faae5be800be2dfa897eea0bd2e5988cd53c4ec0   car                          9\n",
      "68  faae5be800be2dfa897eea0bd2e5988cd53c4ec0  bike                        134\n",
      "69  faae5be800be2dfa897eea0bd2e5988cd53c4ec0  walk                         34\n",
      "\n",
      "[70 rows x 3 columns] \n",
      "\n",
      "Time taken to find number of unique sequences 11.474823299999997 secs\n"
     ]
    }
   ],
   "source": [
    "print(uniq_seq_stats,\"\\n\")\n",
    "print(\"Time taken to find number of unique sequences\", time_to_find_num_of_uniq_seq,\"secs\")"
   ]
  },
  {
   "cell_type": "code",
   "execution_count": 12,
   "metadata": {},
   "outputs": [
    {
     "name": "stdout",
     "output_type": "stream",
     "text": [
      "[datetime.date(2018, 6, 4) datetime.date(2018, 4, 10)\n",
      " datetime.date(2018, 4, 11) datetime.date(2018, 4, 13)\n",
      " datetime.date(2018, 4, 14) datetime.date(2018, 4, 19)\n",
      " datetime.date(2018, 4, 12) datetime.date(2018, 4, 16)\n",
      " datetime.date(2018, 4, 18) datetime.date(2018, 6, 3)\n",
      " datetime.date(2018, 6, 7) datetime.date(2018, 10, 11)\n",
      " datetime.date(2018, 10, 13) datetime.date(2018, 10, 14)\n",
      " datetime.date(2018, 10, 15) datetime.date(2018, 10, 16)\n",
      " datetime.date(2018, 10, 18) datetime.date(2018, 10, 19)\n",
      " datetime.date(2018, 6, 6) datetime.date(2018, 4, 17)\n",
      " datetime.date(2019, 5, 27) datetime.date(2019, 5, 28)\n",
      " datetime.date(2019, 5, 29) datetime.date(2019, 5, 30)\n",
      " datetime.date(2019, 9, 10) datetime.date(2019, 9, 12)\n",
      " datetime.date(2019, 9, 13) datetime.date(2019, 9, 9)\n",
      " datetime.date(2019, 9, 11) datetime.date(2018, 10, 12)\n",
      " datetime.date(2018, 10, 17) datetime.date(2018, 10, 9)\n",
      " datetime.date(2018, 6, 5) datetime.date(2018, 10, 10)]\n"
     ]
    }
   ],
   "source": [
    "#finding out all unique dates in the dataset and printing them\n",
    "uniq_date = df[\"timestamp\"].map(pd.Timestamp.date).unique()\n",
    "print(uniq_date)"
   ]
  },
  {
   "cell_type": "code",
   "execution_count": 13,
   "metadata": {},
   "outputs": [
    {
     "name": "stdout",
     "output_type": "stream",
     "text": [
      "[datetime.date(2018, 6, 4) datetime.date(2018, 4, 10)\n",
      " datetime.date(2018, 4, 11) datetime.date(2018, 4, 13)\n",
      " datetime.date(2018, 4, 14) datetime.date(2018, 4, 19)\n",
      " datetime.date(2018, 4, 12) datetime.date(2018, 4, 16)\n",
      " datetime.date(2018, 4, 18) datetime.date(2018, 6, 3)\n",
      " datetime.date(2018, 6, 7) datetime.date(2018, 10, 11)\n",
      " datetime.date(2018, 10, 13) datetime.date(2018, 10, 14)\n",
      " datetime.date(2018, 10, 15) datetime.date(2018, 10, 16)\n",
      " datetime.date(2018, 10, 18) datetime.date(2018, 10, 19)\n",
      " datetime.date(2018, 6, 6) datetime.date(2018, 4, 17)\n",
      " datetime.date(2019, 5, 27) datetime.date(2019, 5, 28)\n",
      " datetime.date(2019, 5, 29) datetime.date(2019, 5, 30)\n",
      " datetime.date(2019, 9, 10) datetime.date(2019, 9, 12)\n",
      " datetime.date(2019, 9, 13) datetime.date(2019, 9, 9)\n",
      " datetime.date(2019, 9, 11) datetime.date(2018, 10, 12)\n",
      " datetime.date(2018, 10, 17) datetime.date(2018, 10, 9)\n",
      " datetime.date(2018, 6, 5) datetime.date(2018, 10, 10)]\n"
     ]
    }
   ],
   "source": [
    "print(uniq_date)"
   ]
  },
  {
   "cell_type": "code",
   "execution_count": 14,
   "metadata": {},
   "outputs": [
    {
     "name": "stdout",
     "output_type": "stream",
     "text": [
      "34\n"
     ]
    }
   ],
   "source": [
    "#number of unique dates\n",
    "print(len(uniq_date))"
   ]
  },
  {
   "cell_type": "code",
   "execution_count": 15,
   "metadata": {},
   "outputs": [
    {
     "name": "stdout",
     "output_type": "stream",
     "text": [
      "datetime64[ns]\n"
     ]
    }
   ],
   "source": [
    "#converting unique dates from string to datetime data type\n",
    "uniq_date = pd.to_datetime(uniq_date)\n",
    "print(uniq_date.dtype)"
   ]
  },
  {
   "cell_type": "markdown",
   "metadata": {},
   "source": [
    "\n",
    "\n",
    "**3) Creating time window partition of 5 secs**"
   ]
  },
  {
   "cell_type": "code",
   "execution_count": 16,
   "metadata": {},
   "outputs": [],
   "source": [
    "#creating records for particular user and particular class by dividing the records into 5 sec time window\n",
    "def create_dataset_by_time_window(df):\n",
    "    \n",
    "    #minimum time of records\n",
    "    mintime = df['tmdel'].min();\n",
    "    \n",
    "    #maximum time of records\n",
    "    maxtime = df['tmdel'].max();\n",
    "    \n",
    "    #counting number of interval of 5 secs between maximum and minimum time\n",
    "    number_of_fives = int((maxtime - mintime) / 5)\n",
    "    range_array = np.arange(number_of_fives+1)\n",
    "    fives_array = np.ones(number_of_fives+1) * 5\n",
    "    delta_time = np.multiply(range_array,fives_array)\n",
    "    \n",
    "    #dataframe to store time window condensed records\n",
    "    df_by_timewindow = pd.DataFrame(columns = ['xmin','ymin','zmin','xmax','ymax','zmax','xavg','yavg','zavg','xstd','ystd','zstd','count','class'])\n",
    "    \n",
    "    for i in range(len(delta_time)-1):\n",
    "        \n",
    "        start_time = delta_time[i]\n",
    "        end_time = delta_time[i+1]\n",
    "        \n",
    "        #getting all records b/w in the 5 sec interval i.e. between start time and end time\n",
    "        records_bw_starttime_endtime = df[(df['tmdel'] >= start_time) & (df['tmdel'] < end_time)]     \n",
    "        \n",
    "        #getting the properties and statistics of above dataframe record\n",
    "        prop = records_bw_starttime_endtime.describe()\n",
    "        \n",
    "        #if the number of record between the time interval is 0, then continue\n",
    "        if(prop['x'].loc['count'] == 0):\n",
    "            continue\n",
    "        \n",
    "        #getting first valid record of this interval\n",
    "        firstidx = records_bw_starttime_endtime.first_valid_index()\n",
    "        \n",
    "        #getting the class of this record\n",
    "        label = records_bw_starttime_endtime['class'].loc[firstidx]\n",
    "        \n",
    "        #adding the statistics and properties of this interval into the dataframe\n",
    "        new_timewindow_record = {'xmin' : prop['x'].loc['min'], 'ymin' : prop['y'].loc['min'], 'zmin' : prop['z'].loc['min'],\n",
    "          'xmax' : prop['x'].loc['max'], 'ymax' : prop['y'].loc['max'], 'zmax' : prop['z'].loc['max'],\n",
    "            'xavg' : prop['x'].loc['mean'], 'yavg' : prop['y'].loc['mean'], 'zavg' : prop['z'].loc['mean'],\n",
    "           'xstd' : prop['x'].loc['std'], 'ystd' : prop['y'].loc['std'], 'zstd' : prop['z'].loc['std'],\n",
    "          'count' : prop['x'].loc['count'], 'class' : label}\n",
    "        df_by_timewindow = df_by_timewindow.append(new_timewindow_record, ignore_index = True)\n",
    "    \n",
    "    return df_by_timewindow"
   ]
  },
  {
   "cell_type": "code",
   "execution_count": 17,
   "metadata": {},
   "outputs": [],
   "source": [
    "#creating dataset for particular user\n",
    "def createdatasetforuser(indiv_user):\n",
    "    uniq_class = indiv_user[\"class\"].unique()       #number of unique class for each user\n",
    "    grpclass = indiv_user.groupby(\"class\")          #grouping the dataset for individual user by class\n",
    "    dataset = pd.DataFrame(columns = ['xmin','ymin','zmin','xmax','ymax','zmax','xavg','yavg','zavg','xstd','ystd','zstd','count','class'])\n",
    "    for i in range(len(uniq_class)):\n",
    "        df_by_class = grpclass.get_group(uniq_class[i])        #dataset for unique user and unique class\n",
    "        df_by_class = df_by_class.sort_values(\"timestamp\")     #sorting the dataset by time\n",
    "        first_row = df_by_class.first_valid_index()            #getting first valid index in the dataset\n",
    "        \n",
    "        #calculating time difference between successive records\n",
    "        df_by_class['timedelta'] = (df_by_class['timestamp'] - df_by_class['timestamp'].shift(periods=1,fill_value=\n",
    "                                                    df_by_class['timestamp'].loc[first_row]))/np.timedelta64(1,'s')\n",
    "        \n",
    "        #getting all records where time difference between successive records surpasses 5 seconds\n",
    "        diff_greater_than_5 = df_by_class[df_by_class['timedelta'] > 5]\n",
    "        \n",
    "        #filtering out dates of all those records\n",
    "        filter_dates = df_by_class[(df_by_class['timedelta'].isin(diff_greater_than_5['timedelta']))]['timestamp']\n",
    "        \n",
    "        #getting the start date of the dataset\n",
    "        start_date = df_by_class['timestamp'].loc[first_row]\n",
    "        \n",
    "        #converting the filtered dates to datetime datatype\n",
    "        filter_dates = filter_dates.to_numpy(dtype=\"datetime64[ns]\")\n",
    "        filter_dates = pd.to_datetime(filter_dates)\n",
    "        \n",
    "        #getting the dataset for each user and each class sorted according to dates\n",
    "        dataset_for_each_user_each_class = pd.DataFrame(columns = ['xmin','ymin','zmin','xmax','ymax','zmax','xavg','yavg','zavg','xstd','ystd','zstd','count','class'])\n",
    "        for i in range(len(filter_dates)):\n",
    "            end_date = filter_dates[i]\n",
    "            \n",
    "            #if difference between two sequences is less than 5 seconds, then counting it as 1 sequence\n",
    "            if((end_date-start_date)/np.timedelta64(1,'s') < 5):\n",
    "                start_date = end_date\n",
    "                continue\n",
    "                \n",
    "            #getting the records between two dates or time\n",
    "            df_seq_by_date = df_by_class[(df_by_class['timestamp'] >= start_date) & (df_by_class['timestamp'] < end_date)]\n",
    "            \n",
    "            #minimum time of the sequence\n",
    "            mintime = df_seq_by_date['timestamp'].min()\n",
    "            \n",
    "            #subtracting the minimum time from all records in the sequence and making it a column\n",
    "            df_seq_by_date['tmdel'] = (df_seq_by_date['timestamp'] - mintime) / np.timedelta64(1,'s')\n",
    "            \n",
    "            #dividing the sequence in time windows\n",
    "            df_seq_by_date_by_time_window = create_dataset_by_time_window(df_seq_by_date)\n",
    "            \n",
    "            #appending the time divided sequences into one\n",
    "            dataset_for_each_user_each_class = dataset_for_each_user_each_class.append(df_seq_by_date_by_time_window,ignore_index = True)\n",
    "            \n",
    "            #iterating for the next time window\n",
    "            start_date = end_date\n",
    "        \n",
    "        #final dataset divided containing time window stats for each user\n",
    "        dataset = dataset.append(dataset_for_each_user_each_class,ignore_index=True)\n",
    "\n",
    "    return dataset"
   ]
  },
  {
   "cell_type": "code",
   "execution_count": 18,
   "metadata": {},
   "outputs": [
    {
     "name": "stderr",
     "output_type": "stream",
     "text": [
      "C:\\Users\\Rahul Gauriyar\\Anaconda3\\lib\\site-packages\\ipykernel_launcher.py:45: SettingWithCopyWarning: \n",
      "A value is trying to be set on a copy of a slice from a DataFrame.\n",
      "Try using .loc[row_indexer,col_indexer] = value instead\n",
      "\n",
      "See the caveats in the documentation: http://pandas.pydata.org/pandas-docs/stable/user_guide/indexing.html#returning-a-view-versus-a-copy\n"
     ]
    },
    {
     "name": "stdout",
     "output_type": "stream",
     "text": [
      "Time taken in partitioning the dataset into time window of 5 s and getting all the properties is : 1043.4097669999999 secs\n"
     ]
    }
   ],
   "source": [
    "starttime = timeit.default_timer()\n",
    "#creating final dataset for the use in creating balanced dataset\n",
    "dataset = pd.DataFrame(columns = ['xmin','ymin','zmin','xmax','ymax','zmax','xavg','yavg','zavg','xstd','ystd','zstd','count','class'])\n",
    "\n",
    "for i in range(len(all_uniq_user)):\n",
    "    \n",
    "    #getting all records of each individual user\n",
    "    indiv_user = grpby_user.get_group(all_uniq_user[i])\n",
    "    \n",
    "    #appending the records condensed by time window into final dataset\n",
    "    dataset = dataset.append(createdatasetforuser(indiv_user), ignore_index = True)\n",
    "print(\"Time taken in partitioning the dataset into time window of 5 s and getting all the properties is :\", timeit.default_timer() - starttime,'secs')\n",
    "    "
   ]
  },
  {
   "cell_type": "code",
   "execution_count": 19,
   "metadata": {},
   "outputs": [
    {
     "name": "stdout",
     "output_type": "stream",
     "text": [
      "Number of sequences of each transportation mode is as follows:\n",
      "\n",
      "car       16094\n",
      "bus        8672\n",
      "walk       4353\n",
      "bike       1858\n",
      "train       537\n",
      "e-bike       53\n",
      "Name: class, dtype: int64\n"
     ]
    }
   ],
   "source": [
    "#Number of sequences of each transportation mode\n",
    "print('Number of sequences of each transportation mode is as follows:\\n')\n",
    "print(dataset['class'].value_counts())"
   ]
  },
  {
   "cell_type": "markdown",
   "metadata": {},
   "source": [
    "**4) Box and Whisker plot for each feature of each transportation mode**"
   ]
  },
  {
   "cell_type": "code",
   "execution_count": 20,
   "metadata": {},
   "outputs": [
    {
     "data": {
      "image/png": "[encoded data removed]",
      "text/plain": [
       "<Figure size 432x288 with 1 Axes>"
      ]
     },
     "metadata": {
      "needs_background": "light"
     },
     "output_type": "display_data"
    },
    {
     "data": {
      "image/png": "[encoded data removed]",
      "text/plain": [
       "<Figure size 432x288 with 1 Axes>"
      ]
     },
     "metadata": {
      "needs_background": "light"
     },
     "output_type": "display_data"
    },
    {
     "data": {
      "image/png": "[encoded data removed]",
      "text/plain": [
       "<Figure size 432x288 with 1 Axes>"
      ]
     },
     "metadata": {
      "needs_background": "light"
     },
     "output_type": "display_data"
    },
    {
     "data": {
      "image/png": "[encoded data removed]",
      "text/plain": [
       "<Figure size 432x288 with 1 Axes>"
      ]
     },
     "metadata": {
      "needs_background": "light"
     },
     "output_type": "display_data"
    },
    {
     "data": {
      "image/png": "[encoded data removed]",
      "text/plain": [
       "<Figure size 432x288 with 1 Axes>"
      ]
     },
     "metadata": {
      "needs_background": "light"
     },
     "output_type": "display_data"
    },
    {
     "data": {
      "image/png": "[encoded data removed]",
      "text/plain": [
       "<Figure size 432x288 with 1 Axes>"
      ]
     },
     "metadata": {
      "needs_background": "light"
     },
     "output_type": "display_data"
    },
    {
     "data": {
      "image/png": "[encoded data removed]",
      "text/plain": [
       "<Figure size 432x288 with 1 Axes>"
      ]
     },
     "metadata": {
      "needs_background": "light"
     },
     "output_type": "display_data"
    },
    {
     "data": {
      "image/png": "[encoded data removed]",
      "text/plain": [
       "<Figure size 432x288 with 1 Axes>"
      ]
     },
     "metadata": {
      "needs_background": "light"
     },
     "output_type": "display_data"
    },
    {
     "data": {
      "image/png": "[encoded data removed]",
      "text/plain": [
       "<Figure size 432x288 with 1 Axes>"
      ]
     },
     "metadata": {
      "needs_background": "light"
     },
     "output_type": "display_data"
    },
    {
     "data": {
      "image/png": "[encoded data removed]",
      "text/plain": [
       "<Figure size 432x288 with 1 Axes>"
      ]
     },
     "metadata": {
      "needs_background": "light"
     },
     "output_type": "display_data"
    },
    {
     "data": {
      "image/png": "[encoded data removed]",
      "text/plain": [
       "<Figure size 432x288 with 1 Axes>"
      ]
     },
     "metadata": {
      "needs_background": "light"
     },
     "output_type": "display_data"
    },
    {
     "data": {
      "image/png": "[encoded data removed]",
      "text/plain": [
       "<Figure size 432x288 with 1 Axes>"
      ]
     },
     "metadata": {
      "needs_background": "light"
     },
     "output_type": "display_data"
    }
   ],
   "source": [
    "import seaborn as sns\n",
    "column_names = dataset.columns\n",
    "for col in range(len(column_names)-2):\n",
    "    ax = sns.boxplot(x=column_names[col], y= 'class', data= dataset)\n",
    "    plt.show()"
   ]
  },
  {
   "cell_type": "code",
   "execution_count": 21,
   "metadata": {},
   "outputs": [
    {
     "name": "stdout",
     "output_type": "stream",
     "text": [
      "Interpretation of the visualization plot :\n",
      "The acceleration in x direction is highly scattered in walking class\n",
      "The range of values for train is localized wrt other modes\n",
      "Values of car are highly correlated with values of bus and bike\n",
      "The average acceleration of ebike in z direction is uniformly distributed\n"
     ]
    }
   ],
   "source": [
    "print(\"Interpretation of the visualization plot :\")\n",
    "print(\"The acceleration in x direction is highly scattered in walking class\")\n",
    "print(\"The range of values for train is localized wrt other modes\")\n",
    "print(\"Values of car are highly correlated with values of bus and bike\")\n",
    "print(\"The average acceleration of ebike in z direction is uniformly distributed\")"
   ]
  },
  {
   "cell_type": "markdown",
   "metadata": {},
   "source": [
    "**5) Creating Balanced dataset**"
   ]
  },
  {
   "cell_type": "code",
   "execution_count": 22,
   "metadata": {},
   "outputs": [],
   "source": [
    "#Taking only those sequences in which number of records is greater than the median number of records for that transportation mode\n",
    "def balanced_dataset(dataset):\n",
    "    min_datapoints = dataset['class'].value_counts().min()\n",
    "    xcar = dataset[(dataset['class'] == 'car') & (dataset['count'] > dataset['count'].median())].sample(n = min_datapoints)\n",
    "    xbus = dataset[(dataset['class'] == 'bus') & (dataset['count'] > dataset['count'].median())].sample(n = min_datapoints)\n",
    "    xwalk = dataset[(dataset['class'] == 'walk') & (dataset['count'] > dataset['count'].median())].sample(n = min_datapoints)\n",
    "    xbike = dataset[(dataset['class'] == 'bike') & (dataset['count'] > dataset['count'].median())].sample(n = min_datapoints)\n",
    "    xtrain = dataset[(dataset['class'] == 'train') & (dataset['count'] > dataset['count'].median())].sample(n = min_datapoints)\n",
    "    xebike = dataset[dataset['class'] == 'e-bike']\n",
    "    classes = dataset['class'].unique()\n",
    "    bal_dataset = pd.DataFrame(columns = ['xmin','ymin','zmin','xmax','ymax','zmax','xavg','yavg','zavg','xstd','ystd','zstd','count','class'])\n",
    "    bal_dataset = bal_dataset.append([xcar, xbus, xwalk, xbike, xtrain, xebike], ignore_index = True)\n",
    "\n",
    "    return bal_dataset"
   ]
  },
  {
   "cell_type": "code",
   "execution_count": 23,
   "metadata": {},
   "outputs": [
    {
     "name": "stdout",
     "output_type": "stream",
     "text": [
      "Number of data points in each transportation mode\n",
      "\n",
      "car       53\n",
      "walk      53\n",
      "e-bike    53\n",
      "bus       53\n",
      "train     53\n",
      "bike      53\n",
      "Name: class, dtype: int64\n"
     ]
    }
   ],
   "source": [
    "#Balanced dataset and number of data points in each transportation mode\n",
    "bal_dataset = balanced_dataset(dataset)\n",
    "print('Number of data points in each transportation mode\\n')\n",
    "print(bal_dataset['class'].value_counts())"
   ]
  },
  {
   "cell_type": "code",
   "execution_count": 24,
   "metadata": {},
   "outputs": [],
   "source": [
    "#Partitioning the balanced dataset into input and output, i.e X and y respectively\n",
    "X = bal_dataset.iloc[:,0:12].values\n",
    "y = bal_dataset.iloc[:, -1].values"
   ]
  },
  {
   "cell_type": "code",
   "execution_count": 25,
   "metadata": {},
   "outputs": [],
   "source": [
    "#Since y is string ,encoding it\n",
    "from sklearn.preprocessing import LabelEncoder, OneHotEncoder\n",
    "labelencoder_y = LabelEncoder()\n",
    "y = labelencoder_y.fit_transform(y)"
   ]
  },
  {
   "cell_type": "markdown",
   "metadata": {},
   "source": [
    "**6) Splitting into train, validation and test dataset**"
   ]
  },
  {
   "cell_type": "code",
   "execution_count": 26,
   "metadata": {},
   "outputs": [
    {
     "name": "stdout",
     "output_type": "stream",
     "text": [
      "Number of points in training set 190\n",
      "Number of points in validation set 64\n",
      "Number of points in test set 64\n"
     ]
    }
   ],
   "source": [
    "#splitting the dataset into training, validation and test set\n",
    "from sklearn.model_selection import train_test_split\n",
    "X_train, X_val, y_train, y_val = train_test_split(X, y, test_size=0.2)\n",
    "X_train, X_test, y_train, y_test = train_test_split(X_train, y_train, test_size=0.25)\n",
    "print(\"Number of points in training set\",len(X_train))\n",
    "print(\"Number of points in validation set\",len(X_val))\n",
    "print(\"Number of points in test set\",len(X_test))"
   ]
  },
  {
   "cell_type": "code",
   "execution_count": 27,
   "metadata": {},
   "outputs": [],
   "source": [
    "#Scaling the training input\n",
    "from sklearn.preprocessing import StandardScaler\n",
    "sc_X = StandardScaler()\n",
    "X_train = sc_X.fit_transform(X_train)\n",
    "X_val = sc_X.fit_transform(X_val)\n",
    "X_test = sc_X.transform(X_test)"
   ]
  },
  {
   "cell_type": "code",
   "execution_count": 28,
   "metadata": {},
   "outputs": [],
   "source": [
    "#creating a dictionary of transportation modes\n",
    "dict_of_class = {0 : \"bike\", 1: \"bus\", 2 : \"car\", 3 : \"e-bike\", 4 : \"train\", 5 : \"walk\"}\n",
    "class_names = [\"bike\", \"bus\", \"car\", \"e-bike\", \"train\", \"walk\"]"
   ]
  },
  {
   "cell_type": "markdown",
   "metadata": {},
   "source": [
    "**7) Training different models**"
   ]
  },
  {
   "cell_type": "markdown",
   "metadata": {},
   "source": [
    "**Using SVM**"
   ]
  },
  {
   "cell_type": "code",
   "execution_count": 29,
   "metadata": {},
   "outputs": [
    {
     "name": "stdout",
     "output_type": "stream",
     "text": [
      "Accuracy of the model on validation set is 67.1875 %\n",
      "Confusion matrix\n",
      " [[ 5  0  1  0  0  5]\n",
      " [ 2  5  6  0  0  1]\n",
      " [ 3  2  8  0  0  1]\n",
      " [ 0  0  0  7  0  0]\n",
      " [ 0  0  0  0 11  0]\n",
      " [ 0  0  0  0  0  7]]\n",
      "              precision    recall  f1-score   support\n",
      "\n",
      "        bike       0.50      0.45      0.48        11\n",
      "         bus       0.71      0.36      0.48        14\n",
      "         car       0.53      0.57      0.55        14\n",
      "      e-bike       1.00      1.00      1.00         7\n",
      "       train       1.00      1.00      1.00        11\n",
      "        walk       0.50      1.00      0.67         7\n",
      "\n",
      "    accuracy                           0.67        64\n",
      "   macro avg       0.71      0.73      0.70        64\n",
      "weighted avg       0.69      0.67      0.66        64\n",
      "\n"
     ]
    }
   ],
   "source": [
    "from sklearn.svm import SVC\n",
    "from sklearn.metrics import confusion_matrix\n",
    "from sklearn.metrics import classification_report\n",
    "classifier_svm = SVC(kernel='rbf', C = 1.0, gamma = 0.5, random_state=0).fit(X_train, y_train)\n",
    "y_pred = classifier_svm.predict(X_val)\n",
    "confusion_matrix_svm = confusion_matrix(y_val, y_pred)\n",
    "accuracy_svm = classifier_svm.score(X_val, y_val) * 100 \n",
    "print(\"Accuracy of the model on validation set is\",accuracy_svm,'%')\n",
    "print(\"Confusion matrix\\n\", confusion_matrix_svm)\n",
    "print(classification_report(y_val, y_pred, target_names= class_names))"
   ]
  },
  {
   "cell_type": "markdown",
   "metadata": {},
   "source": [
    "**Using Logistic Regression**"
   ]
  },
  {
   "cell_type": "code",
   "execution_count": 30,
   "metadata": {},
   "outputs": [
    {
     "name": "stdout",
     "output_type": "stream",
     "text": [
      "Accuracy of the model on validation set is 57.8125 %\n",
      "Confusion matrix\n",
      " [[ 3  1  0  2  1  4]\n",
      " [ 1  4  2  4  1  2]\n",
      " [ 3  4  5  1  1  0]\n",
      " [ 0  0  0  7  0  0]\n",
      " [ 0  0  0  0 11  0]\n",
      " [ 0  0  0  0  0  7]]\n",
      "              precision    recall  f1-score   support\n",
      "\n",
      "        bike       0.43      0.27      0.33        11\n",
      "         bus       0.44      0.29      0.35        14\n",
      "         car       0.71      0.36      0.48        14\n",
      "      e-bike       0.50      1.00      0.67         7\n",
      "       train       0.79      1.00      0.88        11\n",
      "        walk       0.54      1.00      0.70         7\n",
      "\n",
      "    accuracy                           0.58        64\n",
      "   macro avg       0.57      0.65      0.57        64\n",
      "weighted avg       0.58      0.58      0.54        64\n",
      "\n"
     ]
    }
   ],
   "source": [
    "from sklearn.linear_model import LogisticRegression\n",
    "classifier_logist = LogisticRegression(random_state=0, solver = 'lbfgs',multi_class = 'multinomial').fit(X_train, y_train)\n",
    "y_pred = classifier_logist.predict(X_val)\n",
    "confusion_matrix_logist = confusion_matrix(y_val, y_pred)\n",
    "accuracy_logist = classifier_logist.score(X_val, y_val) * 100 \n",
    "print(\"Accuracy of the model on validation set is\",accuracy_logist,'%')\n",
    "print(\"Confusion matrix\\n\", confusion_matrix_logist)\n",
    "print(classification_report(y_val, y_pred, target_names= class_names))"
   ]
  },
  {
   "cell_type": "markdown",
   "metadata": {},
   "source": [
    "**Using Neural Networks**"
   ]
  },
  {
   "cell_type": "code",
   "execution_count": 31,
   "metadata": {},
   "outputs": [
    {
     "name": "stdout",
     "output_type": "stream",
     "text": [
      "Accuracy of the model on validation set is 70.3125 %\n",
      "Confusion matrix\n",
      " [[ 6  1  0  1  0  3]\n",
      " [ 1  5  7  1  0  0]\n",
      " [ 1  2 10  0  0  1]\n",
      " [ 0  0  0  7  0  0]\n",
      " [ 0  0  0  0 11  0]\n",
      " [ 1  0  0  0  0  6]]\n",
      "              precision    recall  f1-score   support\n",
      "\n",
      "        bike       0.67      0.55      0.60        11\n",
      "         bus       0.62      0.36      0.45        14\n",
      "         car       0.59      0.71      0.65        14\n",
      "      e-bike       0.78      1.00      0.88         7\n",
      "       train       1.00      1.00      1.00        11\n",
      "        walk       0.60      0.86      0.71         7\n",
      "\n",
      "    accuracy                           0.70        64\n",
      "   macro avg       0.71      0.75      0.71        64\n",
      "weighted avg       0.70      0.70      0.69        64\n",
      "\n"
     ]
    }
   ],
   "source": [
    "from sklearn.neural_network import MLPClassifier\n",
    "classifier_mlp = MLPClassifier(hidden_layer_sizes=(16,12,6),max_iter = 2000).fit(X_train,y_train)\n",
    "y_pred = classifier_mlp.predict(X_val)\n",
    "confusion_matrix_mlp = confusion_matrix(y_val, y_pred)\n",
    "accuracy_mlp = classifier_mlp.score(X_val, y_val) * 100 \n",
    "print(\"Accuracy of the model on validation set is\",accuracy_mlp,'%')\n",
    "print(\"Confusion matrix\\n\", confusion_matrix_mlp)\n",
    "print(classification_report(y_val, y_pred, target_names= class_names))"
   ]
  },
  {
   "cell_type": "markdown",
   "metadata": {},
   "source": [
    "**Calculating accuracy of test dataset**"
   ]
  },
  {
   "cell_type": "code",
   "execution_count": 32,
   "metadata": {},
   "outputs": [
    {
     "name": "stdout",
     "output_type": "stream",
     "text": [
      "Calculating accuracy on test dataset\n",
      "\n",
      "\n",
      "Overall accuracy by SVM is 67.1875 %\n",
      "Confusion matrix\n",
      " [[2 2 1 0 0 6]\n",
      " [1 0 3 3 0 7]\n",
      " [3 2 5 1 0 3]\n",
      " [1 0 1 0 1 4]\n",
      " [0 2 2 3 2 2]\n",
      " [1 0 1 0 4 1]]\n",
      "              precision    recall  f1-score   support\n",
      "\n",
      "        bike       0.25      0.18      0.21        11\n",
      "         bus       0.00      0.00      0.00        14\n",
      "         car       0.38      0.36      0.37        14\n",
      "      e-bike       0.00      0.00      0.00         7\n",
      "       train       0.29      0.18      0.22        11\n",
      "        walk       0.04      0.14      0.07         7\n",
      "\n",
      "    accuracy                           0.16        64\n",
      "   macro avg       0.16      0.14      0.14        64\n",
      "weighted avg       0.18      0.16      0.16        64\n",
      "\n",
      "Overall accuracy by Logistic Regression is 62.5 %\n",
      "Confusion matrix\n",
      " [[2 1 2 4 0 2]\n",
      " [3 0 2 6 0 3]\n",
      " [3 1 6 2 1 1]\n",
      " [1 0 0 0 2 4]\n",
      " [0 1 1 6 2 1]\n",
      " [1 1 0 0 4 1]]\n",
      "              precision    recall  f1-score   support\n",
      "\n",
      "        bike       0.20      0.18      0.19        11\n",
      "         bus       0.00      0.00      0.00        14\n",
      "         car       0.55      0.43      0.48        14\n",
      "      e-bike       0.00      0.00      0.00         7\n",
      "       train       0.22      0.18      0.20        11\n",
      "        walk       0.08      0.14      0.11         7\n",
      "\n",
      "    accuracy                           0.17        64\n",
      "   macro avg       0.18      0.16      0.16        64\n",
      "weighted avg       0.20      0.17      0.18        64\n",
      "\n",
      "Overall accuracy by Neural Networks is 68.75 %\n",
      "Confusion matrix\n",
      " [[3 0 2 2 0 4]\n",
      " [2 0 2 5 0 5]\n",
      " [1 3 4 4 1 1]\n",
      " [1 0 1 0 1 4]\n",
      " [0 2 2 4 2 1]\n",
      " [1 0 1 0 4 1]]\n",
      "              precision    recall  f1-score   support\n",
      "\n",
      "        bike       0.38      0.27      0.32        11\n",
      "         bus       0.00      0.00      0.00        14\n",
      "         car       0.33      0.29      0.31        14\n",
      "      e-bike       0.00      0.00      0.00         7\n",
      "       train       0.25      0.18      0.21        11\n",
      "        walk       0.06      0.14      0.09         7\n",
      "\n",
      "    accuracy                           0.16        64\n",
      "   macro avg       0.17      0.15      0.15        64\n",
      "weighted avg       0.19      0.16      0.17        64\n",
      "\n",
      "The best model which predicted highest accuracy is Neural Networks\n"
     ]
    }
   ],
   "source": [
    "print(\"Calculating accuracy on test dataset\\n\\n\")\n",
    "#SVM model\n",
    "y_pred = classifier_svm.predict(X_test)\n",
    "accuracy_svm = classifier_svm.score(X_test, y_test) * 100 \n",
    "print(\"Overall accuracy by SVM is\",accuracy_svm,'%')\n",
    "print(\"Confusion matrix\\n\", confusion_matrix(y_val, y_pred))\n",
    "print(classification_report(y_val, y_pred, target_names= class_names))\n",
    "\n",
    "#Logistic Regression model\n",
    "y_pred = classifier_logist.predict(X_test)\n",
    "accuracy_logist = classifier_logist.score(X_test, y_test) * 100 \n",
    "print(\"Overall accuracy by Logistic Regression is\",accuracy_logist,'%')\n",
    "print(\"Confusion matrix\\n\", confusion_matrix(y_val, y_pred))\n",
    "print(classification_report(y_val, y_pred, target_names= class_names))\n",
    "\n",
    "#Neural Networks\n",
    "y_pred = classifier_mlp.predict(X_test)\n",
    "accuracy_mlp = classifier_mlp.score(X_test, y_test) * 100 \n",
    "print(\"Overall accuracy by Neural Networks is\",accuracy_mlp,'%')\n",
    "print(\"Confusion matrix\\n\", confusion_matrix(y_val, y_pred))\n",
    "print(classification_report(y_val, y_pred, target_names= class_names))\n",
    "\n",
    "\n",
    "accuracy_dict = {accuracy_svm : 'SVM' , accuracy_logist : 'Logistics Regression', accuracy_mlp : 'Neural Networks'}\n",
    "print(\"The best model which predicted highest accuracy is\", accuracy_dict[max(accuracy_svm,accuracy_logist,accuracy_mlp)])"
   ]
  },
  {
   "cell_type": "markdown",
   "metadata": {},
   "source": [
    "**EXTRA, APART FROM QUESTIONS GIVEN, USING KERAS ON DIFFERENT SAMPLES**"
   ]
  },
  {
   "cell_type": "code",
   "execution_count": 33,
   "metadata": {},
   "outputs": [
    {
     "name": "stdout",
     "output_type": "stream",
     "text": [
      "   bike  bus  car  e-bike  train  walk\n",
      "0     0    0    1       0      0     0\n",
      "1     0    0    1       0      0     0\n",
      "2     0    0    1       0      0     0\n",
      "3     0    0    1       0      0     0\n",
      "4     0    0    1       0      0     0\n"
     ]
    }
   ],
   "source": [
    "#encoding categorical data which is in class column\n",
    "bal_dataset_ann = bal_dataset\n",
    "labels = pd.get_dummies(bal_dataset_ann['class'])\n",
    "print(labels.head())"
   ]
  },
  {
   "cell_type": "code",
   "execution_count": 34,
   "metadata": {},
   "outputs": [
    {
     "data": {
      "text/html": [
       "<div>\n",
       "<style scoped>\n",
       "    .dataframe tbody tr th:only-of-type {\n",
       "        vertical-align: middle;\n",
       "    }\n",
       "\n",
       "    .dataframe tbody tr th {\n",
       "        vertical-align: top;\n",
       "    }\n",
       "\n",
       "    .dataframe thead th {\n",
       "        text-align: right;\n",
       "    }\n",
       "</style>\n",
       "<table border=\"1\" class=\"dataframe\">\n",
       "  <thead>\n",
       "    <tr style=\"text-align: right;\">\n",
       "      <th></th>\n",
       "      <th>xmin</th>\n",
       "      <th>ymin</th>\n",
       "      <th>zmin</th>\n",
       "      <th>xmax</th>\n",
       "      <th>ymax</th>\n",
       "      <th>zmax</th>\n",
       "      <th>xavg</th>\n",
       "      <th>yavg</th>\n",
       "      <th>zavg</th>\n",
       "      <th>xstd</th>\n",
       "      <th>ystd</th>\n",
       "      <th>zstd</th>\n",
       "      <th>count</th>\n",
       "    </tr>\n",
       "  </thead>\n",
       "  <tbody>\n",
       "    <tr>\n",
       "      <td>0</td>\n",
       "      <td>-3.21</td>\n",
       "      <td>8.75</td>\n",
       "      <td>-3.63</td>\n",
       "      <td>-0.49</td>\n",
       "      <td>11.120000</td>\n",
       "      <td>0.30</td>\n",
       "      <td>-1.668122</td>\n",
       "      <td>9.617310</td>\n",
       "      <td>-1.763299</td>\n",
       "      <td>0.494666</td>\n",
       "      <td>0.421074</td>\n",
       "      <td>1.066728</td>\n",
       "      <td>197.0</td>\n",
       "    </tr>\n",
       "    <tr>\n",
       "      <td>1</td>\n",
       "      <td>-2.67</td>\n",
       "      <td>6.87</td>\n",
       "      <td>1.75</td>\n",
       "      <td>3.65</td>\n",
       "      <td>10.630000</td>\n",
       "      <td>6.83</td>\n",
       "      <td>-0.155493</td>\n",
       "      <td>8.994527</td>\n",
       "      <td>4.096620</td>\n",
       "      <td>0.708597</td>\n",
       "      <td>0.535706</td>\n",
       "      <td>0.952333</td>\n",
       "      <td>497.0</td>\n",
       "    </tr>\n",
       "    <tr>\n",
       "      <td>2</td>\n",
       "      <td>-2.46</td>\n",
       "      <td>-8.77</td>\n",
       "      <td>-10.46</td>\n",
       "      <td>1.47</td>\n",
       "      <td>-4.070000</td>\n",
       "      <td>-5.77</td>\n",
       "      <td>-0.737884</td>\n",
       "      <td>-5.797566</td>\n",
       "      <td>-8.142487</td>\n",
       "      <td>0.807138</td>\n",
       "      <td>0.863769</td>\n",
       "      <td>0.759705</td>\n",
       "      <td>189.0</td>\n",
       "    </tr>\n",
       "    <tr>\n",
       "      <td>3</td>\n",
       "      <td>0.18</td>\n",
       "      <td>8.30</td>\n",
       "      <td>-5.05</td>\n",
       "      <td>4.07</td>\n",
       "      <td>9.800000</td>\n",
       "      <td>-1.71</td>\n",
       "      <td>1.662759</td>\n",
       "      <td>9.162118</td>\n",
       "      <td>-3.345862</td>\n",
       "      <td>0.699452</td>\n",
       "      <td>0.197644</td>\n",
       "      <td>0.654764</td>\n",
       "      <td>203.0</td>\n",
       "    </tr>\n",
       "    <tr>\n",
       "      <td>4</td>\n",
       "      <td>4.26</td>\n",
       "      <td>0.25</td>\n",
       "      <td>-11.04</td>\n",
       "      <td>9.47</td>\n",
       "      <td>2.800000</td>\n",
       "      <td>-5.19</td>\n",
       "      <td>6.158239</td>\n",
       "      <td>1.397045</td>\n",
       "      <td>-7.466875</td>\n",
       "      <td>0.802493</td>\n",
       "      <td>0.378181</td>\n",
       "      <td>0.869601</td>\n",
       "      <td>176.0</td>\n",
       "    </tr>\n",
       "    <tr>\n",
       "      <td>...</td>\n",
       "      <td>...</td>\n",
       "      <td>...</td>\n",
       "      <td>...</td>\n",
       "      <td>...</td>\n",
       "      <td>...</td>\n",
       "      <td>...</td>\n",
       "      <td>...</td>\n",
       "      <td>...</td>\n",
       "      <td>...</td>\n",
       "      <td>...</td>\n",
       "      <td>...</td>\n",
       "      <td>...</td>\n",
       "      <td>...</td>\n",
       "    </tr>\n",
       "    <tr>\n",
       "      <td>313</td>\n",
       "      <td>-0.93</td>\n",
       "      <td>-2.45</td>\n",
       "      <td>2.78</td>\n",
       "      <td>4.04</td>\n",
       "      <td>16.059999</td>\n",
       "      <td>10.74</td>\n",
       "      <td>1.629034</td>\n",
       "      <td>6.641080</td>\n",
       "      <td>5.866989</td>\n",
       "      <td>1.026294</td>\n",
       "      <td>4.508564</td>\n",
       "      <td>1.400365</td>\n",
       "      <td>176.0</td>\n",
       "    </tr>\n",
       "    <tr>\n",
       "      <td>314</td>\n",
       "      <td>-2.02</td>\n",
       "      <td>-1.21</td>\n",
       "      <td>1.68</td>\n",
       "      <td>3.38</td>\n",
       "      <td>17.469999</td>\n",
       "      <td>8.61</td>\n",
       "      <td>0.551870</td>\n",
       "      <td>8.230569</td>\n",
       "      <td>4.699837</td>\n",
       "      <td>1.223721</td>\n",
       "      <td>3.043609</td>\n",
       "      <td>1.470790</td>\n",
       "      <td>123.0</td>\n",
       "    </tr>\n",
       "    <tr>\n",
       "      <td>315</td>\n",
       "      <td>-2.30</td>\n",
       "      <td>2.19</td>\n",
       "      <td>0.72</td>\n",
       "      <td>2.24</td>\n",
       "      <td>15.520000</td>\n",
       "      <td>8.81</td>\n",
       "      <td>0.124324</td>\n",
       "      <td>8.821004</td>\n",
       "      <td>4.340270</td>\n",
       "      <td>0.695778</td>\n",
       "      <td>1.655303</td>\n",
       "      <td>0.946910</td>\n",
       "      <td>259.0</td>\n",
       "    </tr>\n",
       "    <tr>\n",
       "      <td>316</td>\n",
       "      <td>-3.17</td>\n",
       "      <td>3.28</td>\n",
       "      <td>0.17</td>\n",
       "      <td>3.88</td>\n",
       "      <td>20.290001</td>\n",
       "      <td>6.93</td>\n",
       "      <td>-0.065938</td>\n",
       "      <td>8.770375</td>\n",
       "      <td>4.185313</td>\n",
       "      <td>0.916110</td>\n",
       "      <td>2.158930</td>\n",
       "      <td>0.972835</td>\n",
       "      <td>160.0</td>\n",
       "    </tr>\n",
       "    <tr>\n",
       "      <td>317</td>\n",
       "      <td>-2.36</td>\n",
       "      <td>4.94</td>\n",
       "      <td>1.99</td>\n",
       "      <td>2.72</td>\n",
       "      <td>16.370001</td>\n",
       "      <td>8.22</td>\n",
       "      <td>0.094733</td>\n",
       "      <td>8.760267</td>\n",
       "      <td>4.233733</td>\n",
       "      <td>0.691801</td>\n",
       "      <td>1.753726</td>\n",
       "      <td>0.849730</td>\n",
       "      <td>150.0</td>\n",
       "    </tr>\n",
       "  </tbody>\n",
       "</table>\n",
       "<p>318 rows × 13 columns</p>\n",
       "</div>"
      ],
      "text/plain": [
       "     xmin  ymin   zmin  xmax       ymax   zmax      xavg      yavg      zavg  \\\n",
       "0   -3.21  8.75  -3.63 -0.49  11.120000   0.30 -1.668122  9.617310 -1.763299   \n",
       "1   -2.67  6.87   1.75  3.65  10.630000   6.83 -0.155493  8.994527  4.096620   \n",
       "2   -2.46 -8.77 -10.46  1.47  -4.070000  -5.77 -0.737884 -5.797566 -8.142487   \n",
       "3    0.18  8.30  -5.05  4.07   9.800000  -1.71  1.662759  9.162118 -3.345862   \n",
       "4    4.26  0.25 -11.04  9.47   2.800000  -5.19  6.158239  1.397045 -7.466875   \n",
       "..    ...   ...    ...   ...        ...    ...       ...       ...       ...   \n",
       "313 -0.93 -2.45   2.78  4.04  16.059999  10.74  1.629034  6.641080  5.866989   \n",
       "314 -2.02 -1.21   1.68  3.38  17.469999   8.61  0.551870  8.230569  4.699837   \n",
       "315 -2.30  2.19   0.72  2.24  15.520000   8.81  0.124324  8.821004  4.340270   \n",
       "316 -3.17  3.28   0.17  3.88  20.290001   6.93 -0.065938  8.770375  4.185313   \n",
       "317 -2.36  4.94   1.99  2.72  16.370001   8.22  0.094733  8.760267  4.233733   \n",
       "\n",
       "         xstd      ystd      zstd  count  \n",
       "0    0.494666  0.421074  1.066728  197.0  \n",
       "1    0.708597  0.535706  0.952333  497.0  \n",
       "2    0.807138  0.863769  0.759705  189.0  \n",
       "3    0.699452  0.197644  0.654764  203.0  \n",
       "4    0.802493  0.378181  0.869601  176.0  \n",
       "..        ...       ...       ...    ...  \n",
       "313  1.026294  4.508564  1.400365  176.0  \n",
       "314  1.223721  3.043609  1.470790  123.0  \n",
       "315  0.695778  1.655303  0.946910  259.0  \n",
       "316  0.916110  2.158930  0.972835  160.0  \n",
       "317  0.691801  1.753726  0.849730  150.0  \n",
       "\n",
       "[318 rows x 13 columns]"
      ]
     },
     "execution_count": 34,
     "metadata": {},
     "output_type": "execute_result"
    }
   ],
   "source": [
    "bal_dataset_ann.drop('class',axis='columns')"
   ]
  },
  {
   "cell_type": "code",
   "execution_count": 35,
   "metadata": {},
   "outputs": [],
   "source": [
    "#adding encoding for each class\n",
    "bal_dataset_ann['bike'] = labels['bike'].to_list()\n",
    "bal_dataset_ann['bus'] = labels['bus'].to_list()\n",
    "bal_dataset_ann['car'] = labels['car'].to_list()\n",
    "bal_dataset_ann['ebike'] = labels['e-bike'].to_list()\n",
    "bal_dataset_ann['train'] = labels['train'].to_list()\n",
    "bal_dataset_ann['walk'] = labels['walk'].to_list()"
   ]
  },
  {
   "cell_type": "code",
   "execution_count": 36,
   "metadata": {},
   "outputs": [
    {
     "name": "stdout",
     "output_type": "stream",
     "text": [
      "   xmin  ymin   zmin  xmax   ymax  zmax      xavg      yavg      zavg  \\\n",
      "0 -3.21  8.75  -3.63 -0.49  11.12  0.30 -1.668122  9.617310 -1.763299   \n",
      "1 -2.67  6.87   1.75  3.65  10.63  6.83 -0.155493  8.994527  4.096620   \n",
      "2 -2.46 -8.77 -10.46  1.47  -4.07 -5.77 -0.737884 -5.797566 -8.142487   \n",
      "3  0.18  8.30  -5.05  4.07   9.80 -1.71  1.662759  9.162118 -3.345862   \n",
      "4  4.26  0.25 -11.04  9.47   2.80 -5.19  6.158239  1.397045 -7.466875   \n",
      "\n",
      "       xstd      ystd      zstd  count class  bike  bus  car  ebike  train  \\\n",
      "0  0.494666  0.421074  1.066728  197.0   car     0    0    1      0      0   \n",
      "1  0.708597  0.535706  0.952333  497.0   car     0    0    1      0      0   \n",
      "2  0.807138  0.863769  0.759705  189.0   car     0    0    1      0      0   \n",
      "3  0.699452  0.197644  0.654764  203.0   car     0    0    1      0      0   \n",
      "4  0.802493  0.378181  0.869601  176.0   car     0    0    1      0      0   \n",
      "\n",
      "   walk  \n",
      "0     0  \n",
      "1     0  \n",
      "2     0  \n",
      "3     0  \n",
      "4     0  \n"
     ]
    }
   ],
   "source": [
    "print(bal_dataset_ann.head())"
   ]
  },
  {
   "cell_type": "code",
   "execution_count": 37,
   "metadata": {},
   "outputs": [
    {
     "name": "stdout",
     "output_type": "stream",
     "text": [
      "[-2.67000008  6.86999989  1.75        3.6500001  10.63000011  6.82999992\n",
      " -0.15549296  8.99452718  4.09661972  0.70859684  0.53570593  0.95233279]\n",
      "[0 0 1 0 0 0]\n"
     ]
    }
   ],
   "source": [
    "X = bal_dataset_ann.iloc[:, 0:12].values\n",
    "y = bal_dataset_ann.iloc[:, 14:20].values\n",
    "print(X[1])\n",
    "print(y[1])"
   ]
  },
  {
   "cell_type": "code",
   "execution_count": 38,
   "metadata": {},
   "outputs": [],
   "source": [
    "from sklearn.model_selection import train_test_split\n",
    "X_train_ann, X_val_ann, y_train_ann, y_val_ann = train_test_split(X, y, test_size=0.2)\n",
    "X_train_ann, X_test_ann, y_train_ann, y_test_ann = train_test_split(X_train_ann, y_train_ann, test_size=0.25)"
   ]
  },
  {
   "cell_type": "code",
   "execution_count": 39,
   "metadata": {},
   "outputs": [],
   "source": [
    "from sklearn.preprocessing import StandardScaler\n",
    "sc_X = StandardScaler()\n",
    "X_train_ann = sc_X.fit_transform(X_train_ann)\n",
    "X_val_ann = sc_X.fit_transform(X_val_ann)\n",
    "X_test_ann = sc_X.transform(X_test_ann)"
   ]
  },
  {
   "cell_type": "code",
   "execution_count": 40,
   "metadata": {},
   "outputs": [],
   "source": [
    "from tensorflow.keras.models import Sequential\n",
    "from tensorflow.keras.layers import Dense, Dropout, Activation\n",
    "from tensorflow.keras.optimizers import SGD, Adam\n",
    "\n",
    "model_ann = Sequential()\n",
    "model_ann.add(Dense(16,activation='relu',input_dim = 12))\n",
    "model_ann.add(Dense(12,activation='relu'))\n",
    "model_ann.add(Dense(8,activation='relu'))\n",
    "model_ann.add(Dense(6,activation='softmax'))\n",
    "#adam = Adam()\n",
    "sgd = SGD(learning_rate=0.005, momentum=0.9, nesterov=False)"
   ]
  },
  {
   "cell_type": "code",
   "execution_count": 41,
   "metadata": {},
   "outputs": [],
   "source": [
    "model_ann.compile(loss = 'categorical_crossentropy',optimizer = sgd, metrics = ['accuracy'])"
   ]
  },
  {
   "cell_type": "code",
   "execution_count": 42,
   "metadata": {},
   "outputs": [
    {
     "name": "stdout",
     "output_type": "stream",
     "text": [
      "Epoch 1/200\n",
      "10/10 [==============================] - 0s 3ms/step - loss: 1.7936 - accuracy: 0.1211\n",
      "Epoch 2/200\n",
      "10/10 [==============================] - 0s 2ms/step - loss: 1.7281 - accuracy: 0.2474\n",
      "Epoch 3/200\n",
      "10/10 [==============================] - 0s 3ms/step - loss: 1.6536 - accuracy: 0.4000\n",
      "Epoch 4/200\n",
      "10/10 [==============================] - 0s 2ms/step - loss: 1.5875 - accuracy: 0.4158\n",
      "Epoch 5/200\n",
      "10/10 [==============================] - 0s 3ms/step - loss: 1.5210 - accuracy: 0.4579\n",
      "Epoch 6/200\n",
      "10/10 [==============================] - 0s 3ms/step - loss: 1.4651 - accuracy: 0.5053\n",
      "Epoch 7/200\n",
      "10/10 [==============================] - 0s 3ms/step - loss: 1.4141 - accuracy: 0.5158\n",
      "Epoch 8/200\n",
      "10/10 [==============================] - 0s 2ms/step - loss: 1.3729 - accuracy: 0.5211\n",
      "Epoch 9/200\n",
      "10/10 [==============================] - 0s 2ms/step - loss: 1.3336 - accuracy: 0.5211\n",
      "Epoch 10/200\n",
      "10/10 [==============================] - 0s 2ms/step - loss: 1.2938 - accuracy: 0.5211\n",
      "Epoch 11/200\n",
      "10/10 [==============================] - 0s 2ms/step - loss: 1.2596 - accuracy: 0.5263\n",
      "Epoch 12/200\n",
      "10/10 [==============================] - 0s 2ms/step - loss: 1.2239 - accuracy: 0.5316\n",
      "Epoch 13/200\n",
      "10/10 [==============================] - 0s 2ms/step - loss: 1.1888 - accuracy: 0.5421\n",
      "Epoch 14/200\n",
      "10/10 [==============================] - 0s 2ms/step - loss: 1.1558 - accuracy: 0.5632\n",
      "Epoch 15/200\n",
      "10/10 [==============================] - 0s 2ms/step - loss: 1.1235 - accuracy: 0.5737\n",
      "Epoch 16/200\n",
      "10/10 [==============================] - 0s 2ms/step - loss: 1.0897 - accuracy: 0.6000\n",
      "Epoch 17/200\n",
      "10/10 [==============================] - 0s 2ms/step - loss: 1.0599 - accuracy: 0.6000\n",
      "Epoch 18/200\n",
      "10/10 [==============================] - 0s 2ms/step - loss: 1.0303 - accuracy: 0.6316\n",
      "Epoch 19/200\n",
      "10/10 [==============================] - 0s 2ms/step - loss: 0.9972 - accuracy: 0.6526\n",
      "Epoch 20/200\n",
      "10/10 [==============================] - 0s 2ms/step - loss: 0.9719 - accuracy: 0.6526\n",
      "Epoch 21/200\n",
      "10/10 [==============================] - 0s 2ms/step - loss: 0.9424 - accuracy: 0.6684\n",
      "Epoch 22/200\n",
      "10/10 [==============================] - 0s 2ms/step - loss: 0.9152 - accuracy: 0.6842\n",
      "Epoch 23/200\n",
      "10/10 [==============================] - 0s 2ms/step - loss: 0.8914 - accuracy: 0.6895\n",
      "Epoch 24/200\n",
      "10/10 [==============================] - 0s 2ms/step - loss: 0.8674 - accuracy: 0.6947\n",
      "Epoch 25/200\n",
      "10/10 [==============================] - 0s 2ms/step - loss: 0.8481 - accuracy: 0.7053\n",
      "Epoch 26/200\n",
      "10/10 [==============================] - 0s 2ms/step - loss: 0.8272 - accuracy: 0.7000\n",
      "Epoch 27/200\n",
      "10/10 [==============================] - 0s 2ms/step - loss: 0.8062 - accuracy: 0.7053\n",
      "Epoch 28/200\n",
      "10/10 [==============================] - 0s 2ms/step - loss: 0.7835 - accuracy: 0.7105\n",
      "Epoch 29/200\n",
      "10/10 [==============================] - ETA: 0s - loss: 0.8976 - accuracy: 0.65 - 0s 2ms/step - loss: 0.7708 - accuracy: 0.7105\n",
      "Epoch 30/200\n",
      "10/10 [==============================] - 0s 2ms/step - loss: 0.7568 - accuracy: 0.7105\n",
      "Epoch 31/200\n",
      "10/10 [==============================] - 0s 2ms/step - loss: 0.7387 - accuracy: 0.7158\n",
      "Epoch 32/200\n",
      "10/10 [==============================] - 0s 2ms/step - loss: 0.7244 - accuracy: 0.7211\n",
      "Epoch 33/200\n",
      "10/10 [==============================] - 0s 2ms/step - loss: 0.7135 - accuracy: 0.7263\n",
      "Epoch 34/200\n",
      "10/10 [==============================] - 0s 2ms/step - loss: 0.7023 - accuracy: 0.7211\n",
      "Epoch 35/200\n",
      "10/10 [==============================] - 0s 2ms/step - loss: 0.6845 - accuracy: 0.7158\n",
      "Epoch 36/200\n",
      "10/10 [==============================] - 0s 2ms/step - loss: 0.6710 - accuracy: 0.7263\n",
      "Epoch 37/200\n",
      "10/10 [==============================] - 0s 2ms/step - loss: 0.6565 - accuracy: 0.7316\n",
      "Epoch 38/200\n",
      "10/10 [==============================] - 0s 2ms/step - loss: 0.6425 - accuracy: 0.7263\n",
      "Epoch 39/200\n",
      "10/10 [==============================] - 0s 2ms/step - loss: 0.6329 - accuracy: 0.7474\n",
      "Epoch 40/200\n",
      "10/10 [==============================] - 0s 2ms/step - loss: 0.6234 - accuracy: 0.7526\n",
      "Epoch 41/200\n",
      "10/10 [==============================] - 0s 2ms/step - loss: 0.6041 - accuracy: 0.7474\n",
      "Epoch 42/200\n",
      "10/10 [==============================] - 0s 2ms/step - loss: 0.5953 - accuracy: 0.7526\n",
      "Epoch 43/200\n",
      "10/10 [==============================] - 0s 2ms/step - loss: 0.5840 - accuracy: 0.7632\n",
      "Epoch 44/200\n",
      "10/10 [==============================] - 0s 2ms/step - loss: 0.5700 - accuracy: 0.7579\n",
      "Epoch 45/200\n",
      "10/10 [==============================] - 0s 2ms/step - loss: 0.5651 - accuracy: 0.7579\n",
      "Epoch 46/200\n",
      "10/10 [==============================] - 0s 2ms/step - loss: 0.5446 - accuracy: 0.7632\n",
      "Epoch 47/200\n",
      "10/10 [==============================] - 0s 2ms/step - loss: 0.5366 - accuracy: 0.7579\n",
      "Epoch 48/200\n",
      "10/10 [==============================] - 0s 2ms/step - loss: 0.5285 - accuracy: 0.7737\n",
      "Epoch 49/200\n",
      "10/10 [==============================] - 0s 2ms/step - loss: 0.5140 - accuracy: 0.7789\n",
      "Epoch 50/200\n",
      "10/10 [==============================] - 0s 2ms/step - loss: 0.5055 - accuracy: 0.7737\n",
      "Epoch 51/200\n",
      "10/10 [==============================] - 0s 2ms/step - loss: 0.4959 - accuracy: 0.7684\n",
      "Epoch 52/200\n",
      "10/10 [==============================] - 0s 2ms/step - loss: 0.4842 - accuracy: 0.7842\n",
      "Epoch 53/200\n",
      "10/10 [==============================] - 0s 2ms/step - loss: 0.4809 - accuracy: 0.7895\n",
      "Epoch 54/200\n",
      "10/10 [==============================] - 0s 2ms/step - loss: 0.4682 - accuracy: 0.7789\n",
      "Epoch 55/200\n",
      "10/10 [==============================] - 0s 2ms/step - loss: 0.4659 - accuracy: 0.7842\n",
      "Epoch 56/200\n",
      "10/10 [==============================] - 0s 2ms/step - loss: 0.4576 - accuracy: 0.8053\n",
      "Epoch 57/200\n",
      "10/10 [==============================] - 0s 2ms/step - loss: 0.4557 - accuracy: 0.8105\n",
      "Epoch 58/200\n",
      "10/10 [==============================] - 0s 2ms/step - loss: 0.4433 - accuracy: 0.8053\n",
      "Epoch 59/200\n",
      "10/10 [==============================] - 0s 2ms/step - loss: 0.4384 - accuracy: 0.8316\n",
      "Epoch 60/200\n",
      "10/10 [==============================] - 0s 2ms/step - loss: 0.4288 - accuracy: 0.8263\n",
      "Epoch 61/200\n",
      "10/10 [==============================] - 0s 2ms/step - loss: 0.4271 - accuracy: 0.8105\n",
      "Epoch 62/200\n",
      "10/10 [==============================] - 0s 2ms/step - loss: 0.4176 - accuracy: 0.8263\n",
      "Epoch 63/200\n",
      "10/10 [==============================] - 0s 2ms/step - loss: 0.4141 - accuracy: 0.8474\n",
      "Epoch 64/200\n",
      "10/10 [==============================] - 0s 2ms/step - loss: 0.4076 - accuracy: 0.8368\n",
      "Epoch 65/200\n",
      "10/10 [==============================] - 0s 2ms/step - loss: 0.4101 - accuracy: 0.8158\n",
      "Epoch 66/200\n",
      "10/10 [==============================] - 0s 2ms/step - loss: 0.3992 - accuracy: 0.8211\n",
      "Epoch 67/200\n",
      "10/10 [==============================] - 0s 3ms/step - loss: 0.3998 - accuracy: 0.8158\n",
      "Epoch 68/200\n",
      "10/10 [==============================] - 0s 3ms/step - loss: 0.3878 - accuracy: 0.8474\n",
      "Epoch 69/200\n",
      "10/10 [==============================] - 0s 2ms/step - loss: 0.3908 - accuracy: 0.8368\n",
      "Epoch 70/200\n",
      "10/10 [==============================] - 0s 3ms/step - loss: 0.3753 - accuracy: 0.8526\n",
      "Epoch 71/200\n",
      "10/10 [==============================] - 0s 2ms/step - loss: 0.3751 - accuracy: 0.8316\n",
      "Epoch 72/200\n",
      "10/10 [==============================] - 0s 2ms/step - loss: 0.3713 - accuracy: 0.8632\n",
      "Epoch 73/200\n",
      "10/10 [==============================] - 0s 2ms/step - loss: 0.3664 - accuracy: 0.8421\n",
      "Epoch 74/200\n",
      "10/10 [==============================] - 0s 2ms/step - loss: 0.3716 - accuracy: 0.8368\n",
      "Epoch 75/200\n",
      "10/10 [==============================] - 0s 2ms/step - loss: 0.3608 - accuracy: 0.8737\n",
      "Epoch 76/200\n",
      "10/10 [==============================] - 0s 2ms/step - loss: 0.3501 - accuracy: 0.8579\n",
      "Epoch 77/200\n",
      "10/10 [==============================] - 0s 2ms/step - loss: 0.3511 - accuracy: 0.8474\n",
      "Epoch 78/200\n",
      "10/10 [==============================] - 0s 2ms/step - loss: 0.3429 - accuracy: 0.8579\n",
      "Epoch 79/200\n",
      "10/10 [==============================] - 0s 2ms/step - loss: 0.3422 - accuracy: 0.8421\n",
      "Epoch 80/200\n",
      "10/10 [==============================] - 0s 2ms/step - loss: 0.3344 - accuracy: 0.8632\n",
      "Epoch 81/200\n",
      "10/10 [==============================] - 0s 2ms/step - loss: 0.3302 - accuracy: 0.8684\n",
      "Epoch 82/200\n"
     ]
    },
    {
     "name": "stdout",
     "output_type": "stream",
     "text": [
      "10/10 [==============================] - 0s 2ms/step - loss: 0.3431 - accuracy: 0.8474\n",
      "Epoch 83/200\n",
      "10/10 [==============================] - 0s 2ms/step - loss: 0.3298 - accuracy: 0.8789\n",
      "Epoch 84/200\n",
      "10/10 [==============================] - 0s 2ms/step - loss: 0.3164 - accuracy: 0.8684\n",
      "Epoch 85/200\n",
      "10/10 [==============================] - 0s 2ms/step - loss: 0.3128 - accuracy: 0.8684\n",
      "Epoch 86/200\n",
      "10/10 [==============================] - 0s 2ms/step - loss: 0.3069 - accuracy: 0.8842\n",
      "Epoch 87/200\n",
      "10/10 [==============================] - 0s 2ms/step - loss: 0.3058 - accuracy: 0.8789\n",
      "Epoch 88/200\n",
      "10/10 [==============================] - 0s 2ms/step - loss: 0.3021 - accuracy: 0.8737\n",
      "Epoch 89/200\n",
      "10/10 [==============================] - 0s 2ms/step - loss: 0.3037 - accuracy: 0.8842\n",
      "Epoch 90/200\n",
      "10/10 [==============================] - 0s 2ms/step - loss: 0.2967 - accuracy: 0.8895\n",
      "Epoch 91/200\n",
      "10/10 [==============================] - 0s 2ms/step - loss: 0.2975 - accuracy: 0.8895\n",
      "Epoch 92/200\n",
      "10/10 [==============================] - 0s 2ms/step - loss: 0.2928 - accuracy: 0.9053\n",
      "Epoch 93/200\n",
      "10/10 [==============================] - 0s 2ms/step - loss: 0.2840 - accuracy: 0.8842\n",
      "Epoch 94/200\n",
      "10/10 [==============================] - 0s 2ms/step - loss: 0.2888 - accuracy: 0.8947\n",
      "Epoch 95/200\n",
      "10/10 [==============================] - 0s 2ms/step - loss: 0.2794 - accuracy: 0.9053\n",
      "Epoch 96/200\n",
      "10/10 [==============================] - 0s 2ms/step - loss: 0.2901 - accuracy: 0.8895\n",
      "Epoch 97/200\n",
      "10/10 [==============================] - 0s 2ms/step - loss: 0.2824 - accuracy: 0.8737\n",
      "Epoch 98/200\n",
      "10/10 [==============================] - 0s 2ms/step - loss: 0.2950 - accuracy: 0.8684\n",
      "Epoch 99/200\n",
      "10/10 [==============================] - 0s 2ms/step - loss: 0.2682 - accuracy: 0.9053\n",
      "Epoch 100/200\n",
      "10/10 [==============================] - 0s 2ms/step - loss: 0.2662 - accuracy: 0.8895\n",
      "Epoch 101/200\n",
      "10/10 [==============================] - 0s 2ms/step - loss: 0.2653 - accuracy: 0.8947\n",
      "Epoch 102/200\n",
      "10/10 [==============================] - 0s 2ms/step - loss: 0.2569 - accuracy: 0.9053\n",
      "Epoch 103/200\n",
      "10/10 [==============================] - 0s 2ms/step - loss: 0.2724 - accuracy: 0.8789\n",
      "Epoch 104/200\n",
      "10/10 [==============================] - 0s 2ms/step - loss: 0.2708 - accuracy: 0.8842\n",
      "Epoch 105/200\n",
      "10/10 [==============================] - 0s 2ms/step - loss: 0.2435 - accuracy: 0.9105\n",
      "Epoch 106/200\n",
      "10/10 [==============================] - 0s 2ms/step - loss: 0.2547 - accuracy: 0.9211\n",
      "Epoch 107/200\n",
      "10/10 [==============================] - 0s 2ms/step - loss: 0.2518 - accuracy: 0.8947\n",
      "Epoch 108/200\n",
      "10/10 [==============================] - 0s 2ms/step - loss: 0.2506 - accuracy: 0.9000\n",
      "Epoch 109/200\n",
      "10/10 [==============================] - 0s 2ms/step - loss: 0.2541 - accuracy: 0.9053\n",
      "Epoch 110/200\n",
      "10/10 [==============================] - 0s 2ms/step - loss: 0.2589 - accuracy: 0.9000\n",
      "Epoch 111/200\n",
      "10/10 [==============================] - 0s 2ms/step - loss: 0.2473 - accuracy: 0.9000\n",
      "Epoch 112/200\n",
      "10/10 [==============================] - 0s 2ms/step - loss: 0.2477 - accuracy: 0.9053\n",
      "Epoch 113/200\n",
      "10/10 [==============================] - 0s 2ms/step - loss: 0.2395 - accuracy: 0.9053\n",
      "Epoch 114/200\n",
      "10/10 [==============================] - 0s 2ms/step - loss: 0.2299 - accuracy: 0.9000\n",
      "Epoch 115/200\n",
      "10/10 [==============================] - 0s 2ms/step - loss: 0.2242 - accuracy: 0.9158\n",
      "Epoch 116/200\n",
      "10/10 [==============================] - 0s 3ms/step - loss: 0.2232 - accuracy: 0.9053\n",
      "Epoch 117/200\n",
      "10/10 [==============================] - 0s 2ms/step - loss: 0.2193 - accuracy: 0.9158\n",
      "Epoch 118/200\n",
      "10/10 [==============================] - 0s 2ms/step - loss: 0.2184 - accuracy: 0.9053\n",
      "Epoch 119/200\n",
      "10/10 [==============================] - 0s 2ms/step - loss: 0.2151 - accuracy: 0.9158\n",
      "Epoch 120/200\n",
      "10/10 [==============================] - 0s 2ms/step - loss: 0.2141 - accuracy: 0.9316\n",
      "Epoch 121/200\n",
      "10/10 [==============================] - 0s 2ms/step - loss: 0.2148 - accuracy: 0.9211\n",
      "Epoch 122/200\n",
      "10/10 [==============================] - 0s 2ms/step - loss: 0.2146 - accuracy: 0.9368\n",
      "Epoch 123/200\n",
      "10/10 [==============================] - 0s 2ms/step - loss: 0.2143 - accuracy: 0.9158\n",
      "Epoch 124/200\n",
      "10/10 [==============================] - 0s 2ms/step - loss: 0.2070 - accuracy: 0.9105\n",
      "Epoch 125/200\n",
      "10/10 [==============================] - 0s 2ms/step - loss: 0.2133 - accuracy: 0.9053\n",
      "Epoch 126/200\n",
      "10/10 [==============================] - 0s 2ms/step - loss: 0.2056 - accuracy: 0.9105\n",
      "Epoch 127/200\n",
      "10/10 [==============================] - 0s 2ms/step - loss: 0.2055 - accuracy: 0.9105\n",
      "Epoch 128/200\n",
      "10/10 [==============================] - 0s 2ms/step - loss: 0.2010 - accuracy: 0.9158\n",
      "Epoch 129/200\n",
      "10/10 [==============================] - 0s 2ms/step - loss: 0.1980 - accuracy: 0.9368\n",
      "Epoch 130/200\n",
      "10/10 [==============================] - 0s 2ms/step - loss: 0.1894 - accuracy: 0.9368\n",
      "Epoch 131/200\n",
      "10/10 [==============================] - 0s 2ms/step - loss: 0.1903 - accuracy: 0.9263\n",
      "Epoch 132/200\n",
      "10/10 [==============================] - 0s 2ms/step - loss: 0.1923 - accuracy: 0.9053\n",
      "Epoch 133/200\n",
      "10/10 [==============================] - 0s 2ms/step - loss: 0.1862 - accuracy: 0.9368\n",
      "Epoch 134/200\n",
      "10/10 [==============================] - 0s 2ms/step - loss: 0.1835 - accuracy: 0.9316\n",
      "Epoch 135/200\n",
      "10/10 [==============================] - 0s 2ms/step - loss: 0.1803 - accuracy: 0.9316\n",
      "Epoch 136/200\n",
      "10/10 [==============================] - 0s 2ms/step - loss: 0.1787 - accuracy: 0.9368\n",
      "Epoch 137/200\n",
      "10/10 [==============================] - 0s 2ms/step - loss: 0.1750 - accuracy: 0.9263\n",
      "Epoch 138/200\n",
      "10/10 [==============================] - 0s 2ms/step - loss: 0.1866 - accuracy: 0.9316\n",
      "Epoch 139/200\n",
      "10/10 [==============================] - 0s 3ms/step - loss: 0.1796 - accuracy: 0.9263\n",
      "Epoch 140/200\n",
      "10/10 [==============================] - 0s 2ms/step - loss: 0.1656 - accuracy: 0.9368\n",
      "Epoch 141/200\n",
      "10/10 [==============================] - 0s 3ms/step - loss: 0.1687 - accuracy: 0.9421\n",
      "Epoch 142/200\n",
      "10/10 [==============================] - 0s 2ms/step - loss: 0.1685 - accuracy: 0.9263\n",
      "Epoch 143/200\n",
      "10/10 [==============================] - 0s 2ms/step - loss: 0.1592 - accuracy: 0.9368\n",
      "Epoch 144/200\n",
      "10/10 [==============================] - 0s 2ms/step - loss: 0.1611 - accuracy: 0.9526\n",
      "Epoch 145/200\n",
      "10/10 [==============================] - 0s 2ms/step - loss: 0.1689 - accuracy: 0.9368\n",
      "Epoch 146/200\n",
      "10/10 [==============================] - 0s 2ms/step - loss: 0.1653 - accuracy: 0.9421\n",
      "Epoch 147/200\n",
      "10/10 [==============================] - 0s 2ms/step - loss: 0.1603 - accuracy: 0.9526\n",
      "Epoch 148/200\n",
      "10/10 [==============================] - 0s 2ms/step - loss: 0.1577 - accuracy: 0.9526\n",
      "Epoch 149/200\n",
      "10/10 [==============================] - 0s 2ms/step - loss: 0.1584 - accuracy: 0.9474\n",
      "Epoch 150/200\n",
      "10/10 [==============================] - 0s 2ms/step - loss: 0.1624 - accuracy: 0.9421\n",
      "Epoch 151/200\n",
      "10/10 [==============================] - 0s 2ms/step - loss: 0.1596 - accuracy: 0.9474\n",
      "Epoch 152/200\n",
      "10/10 [==============================] - 0s 2ms/step - loss: 0.1561 - accuracy: 0.9526\n",
      "Epoch 153/200\n",
      "10/10 [==============================] - 0s 2ms/step - loss: 0.1434 - accuracy: 0.9579\n",
      "Epoch 154/200\n",
      "10/10 [==============================] - 0s 2ms/step - loss: 0.1513 - accuracy: 0.9368\n",
      "Epoch 155/200\n",
      "10/10 [==============================] - 0s 2ms/step - loss: 0.1435 - accuracy: 0.9526\n",
      "Epoch 156/200\n",
      "10/10 [==============================] - 0s 2ms/step - loss: 0.1535 - accuracy: 0.9368\n",
      "Epoch 157/200\n",
      "10/10 [==============================] - 0s 2ms/step - loss: 0.1562 - accuracy: 0.9526\n",
      "Epoch 158/200\n",
      "10/10 [==============================] - 0s 2ms/step - loss: 0.1432 - accuracy: 0.9632\n",
      "Epoch 159/200\n",
      "10/10 [==============================] - 0s 2ms/step - loss: 0.1459 - accuracy: 0.9632\n",
      "Epoch 160/200\n",
      "10/10 [==============================] - 0s 2ms/step - loss: 0.1442 - accuracy: 0.9579\n",
      "Epoch 161/200\n",
      "10/10 [==============================] - 0s 2ms/step - loss: 0.1458 - accuracy: 0.9474\n",
      "Epoch 162/200\n",
      "10/10 [==============================] - 0s 2ms/step - loss: 0.1580 - accuracy: 0.9579\n",
      "Epoch 163/200\n"
     ]
    },
    {
     "name": "stdout",
     "output_type": "stream",
     "text": [
      "10/10 [==============================] - 0s 2ms/step - loss: 0.1457 - accuracy: 0.9474\n",
      "Epoch 164/200\n",
      "10/10 [==============================] - 0s 2ms/step - loss: 0.1342 - accuracy: 0.9632\n",
      "Epoch 165/200\n",
      "10/10 [==============================] - 0s 2ms/step - loss: 0.1391 - accuracy: 0.9526\n",
      "Epoch 166/200\n",
      "10/10 [==============================] - 0s 2ms/step - loss: 0.1305 - accuracy: 0.9632\n",
      "Epoch 167/200\n",
      "10/10 [==============================] - 0s 2ms/step - loss: 0.1253 - accuracy: 0.9579\n",
      "Epoch 168/200\n",
      "10/10 [==============================] - 0s 2ms/step - loss: 0.1284 - accuracy: 0.9632\n",
      "Epoch 169/200\n",
      "10/10 [==============================] - 0s 2ms/step - loss: 0.1269 - accuracy: 0.9632\n",
      "Epoch 170/200\n",
      "10/10 [==============================] - 0s 2ms/step - loss: 0.1192 - accuracy: 0.9737\n",
      "Epoch 171/200\n",
      "10/10 [==============================] - 0s 2ms/step - loss: 0.1180 - accuracy: 0.9789\n",
      "Epoch 172/200\n",
      "10/10 [==============================] - 0s 2ms/step - loss: 0.1213 - accuracy: 0.9737\n",
      "Epoch 173/200\n",
      "10/10 [==============================] - 0s 2ms/step - loss: 0.1224 - accuracy: 0.9632\n",
      "Epoch 174/200\n",
      "10/10 [==============================] - 0s 2ms/step - loss: 0.1172 - accuracy: 0.9789\n",
      "Epoch 175/200\n",
      "10/10 [==============================] - 0s 2ms/step - loss: 0.1115 - accuracy: 0.9842\n",
      "Epoch 176/200\n",
      "10/10 [==============================] - 0s 2ms/step - loss: 0.1125 - accuracy: 0.9737\n",
      "Epoch 177/200\n",
      "10/10 [==============================] - 0s 2ms/step - loss: 0.1081 - accuracy: 0.9737\n",
      "Epoch 178/200\n",
      "10/10 [==============================] - 0s 2ms/step - loss: 0.1118 - accuracy: 0.9632\n",
      "Epoch 179/200\n",
      "10/10 [==============================] - 0s 2ms/step - loss: 0.1106 - accuracy: 0.9789\n",
      "Epoch 180/200\n",
      "10/10 [==============================] - 0s 2ms/step - loss: 0.1158 - accuracy: 0.9737\n",
      "Epoch 181/200\n",
      "10/10 [==============================] - 0s 2ms/step - loss: 0.1050 - accuracy: 0.9684\n",
      "Epoch 182/200\n",
      "10/10 [==============================] - 0s 2ms/step - loss: 0.1099 - accuracy: 0.9737\n",
      "Epoch 183/200\n",
      "10/10 [==============================] - 0s 2ms/step - loss: 0.1047 - accuracy: 0.9789\n",
      "Epoch 184/200\n",
      "10/10 [==============================] - 0s 2ms/step - loss: 0.1059 - accuracy: 0.9632\n",
      "Epoch 185/200\n",
      "10/10 [==============================] - 0s 2ms/step - loss: 0.1036 - accuracy: 0.9737\n",
      "Epoch 186/200\n",
      "10/10 [==============================] - 0s 2ms/step - loss: 0.1022 - accuracy: 0.9684\n",
      "Epoch 187/200\n",
      "10/10 [==============================] - 0s 2ms/step - loss: 0.1025 - accuracy: 0.9789\n",
      "Epoch 188/200\n",
      "10/10 [==============================] - 0s 2ms/step - loss: 0.1035 - accuracy: 0.9737\n",
      "Epoch 189/200\n",
      "10/10 [==============================] - 0s 2ms/step - loss: 0.1005 - accuracy: 0.9684\n",
      "Epoch 190/200\n",
      "10/10 [==============================] - 0s 2ms/step - loss: 0.0995 - accuracy: 0.9842\n",
      "Epoch 191/200\n",
      "10/10 [==============================] - 0s 2ms/step - loss: 0.0928 - accuracy: 0.9737\n",
      "Epoch 192/200\n",
      "10/10 [==============================] - 0s 2ms/step - loss: 0.1050 - accuracy: 0.9579\n",
      "Epoch 193/200\n",
      "10/10 [==============================] - 0s 2ms/step - loss: 0.1040 - accuracy: 0.9684\n",
      "Epoch 194/200\n",
      "10/10 [==============================] - 0s 2ms/step - loss: 0.0977 - accuracy: 0.9842\n",
      "Epoch 195/200\n",
      "10/10 [==============================] - 0s 2ms/step - loss: 0.0960 - accuracy: 0.9737\n",
      "Epoch 196/200\n",
      "10/10 [==============================] - 0s 2ms/step - loss: 0.0925 - accuracy: 0.9842\n",
      "Epoch 197/200\n",
      "10/10 [==============================] - 0s 2ms/step - loss: 0.0910 - accuracy: 0.9789\n",
      "Epoch 198/200\n",
      "10/10 [==============================] - 0s 2ms/step - loss: 0.0929 - accuracy: 0.9684\n",
      "Epoch 199/200\n",
      "10/10 [==============================] - 0s 2ms/step - loss: 0.0969 - accuracy: 0.9632\n",
      "Epoch 200/200\n",
      "10/10 [==============================] - 0s 2ms/step - loss: 0.0953 - accuracy: 0.9684\n"
     ]
    },
    {
     "data": {
      "text/plain": [
       "<tensorflow.python.keras.callbacks.History at 0x16d9eee9088>"
      ]
     },
     "execution_count": 42,
     "metadata": {},
     "output_type": "execute_result"
    }
   ],
   "source": [
    "model_ann.fit(X_train_ann,y_train_ann,epochs = 200,batch_size = 20)"
   ]
  },
  {
   "cell_type": "code",
   "execution_count": 43,
   "metadata": {},
   "outputs": [
    {
     "name": "stdout",
     "output_type": "stream",
     "text": [
      "2/2 [==============================] - 0s 1ms/step - loss: 1.1478 - accuracy: 0.7500\n",
      "Evaluation of validation set\n",
      "\n",
      "75.0 %\n"
     ]
    }
   ],
   "source": [
    "score_ann = model_ann.evaluate(X_val_ann,y_val_ann)\n",
    "print('Evaluation of validation set\\n')\n",
    "print(score_ann[1] * 100 ,\"%\")"
   ]
  },
  {
   "cell_type": "code",
   "execution_count": 44,
   "metadata": {},
   "outputs": [
    {
     "name": "stdout",
     "output_type": "stream",
     "text": [
      "2/2 [==============================] - 0s 2ms/step - loss: 1.5813 - accuracy: 0.7344\n",
      "Test accuracy by Neural Networks using Keras is 73.4375 %\n"
     ]
    }
   ],
   "source": [
    "score_ann = model_ann.evaluate(X_test_ann,y_test_ann)\n",
    "print(\"Test accuracy by Neural Networks using Keras is\",score_ann[1] * 100 ,\"%\")"
   ]
  }
 ],
 "metadata": {
  "kernelspec": {
   "display_name": "Python 3",
   "language": "python",
   "name": "python3"
  },
  "language_info": {
   "codemirror_mode": {
    "name": "ipython",
    "version": 3
   },
   "file_extension": ".py",
   "mimetype": "text/x-python",
   "name": "python",
   "nbconvert_exporter": "python",
   "pygments_lexer": "ipython3",
   "version": "3.7.4"
  }
 },
 "nbformat": 4,
 "nbformat_minor": 2
}
